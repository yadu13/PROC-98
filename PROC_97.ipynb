{
  "nbformat": 4,
  "nbformat_minor": 0,
  "metadata": {
    "colab": {
      "provenance": [],
      "authorship_tag": "ABX9TyODezNMvetXpp8Kj/oEyx9C",
      "include_colab_link": true
    },
    "kernelspec": {
      "name": "python3",
      "display_name": "Python 3"
    },
    "language_info": {
      "name": "python"
    }
  },
  "cells": [
    {
      "cell_type": "markdown",
      "metadata": {
        "id": "view-in-github",
        "colab_type": "text"
      },
      "source": [
        "<a href=\"https://colab.research.google.com/github/yadu13/PROC-98/blob/main/PROC_97.ipynb\" target=\"_parent\"><img src=\"https://colab.research.google.com/assets/colab-badge.svg\" alt=\"Open In Colab\"/></a>"
      ]
    },
    {
      "cell_type": "code",
      "execution_count": 4,
      "metadata": {
        "colab": {
          "base_uri": "https://localhost:8080/"
        },
        "id": "6LqmlTD98aFQ",
        "outputId": "00e7de73-0ef0-4e2b-95bc-4f56a248db3c"
      },
      "outputs": [
        {
          "output_type": "stream",
          "name": "stdout",
          "text": [
            "Enter the Lower Limit3\n",
            "Enter the Upper Limit30\n",
            "4\n",
            "8\n",
            "12\n",
            "16\n",
            "20\n",
            "24\n",
            "28\n"
          ]
        }
      ],
      "source": [
        "lower_limit=int(input(\"Enter the Lower Limit\"))\n",
        "upper_limit=int(input(\"Enter the Upper Limit\"))\n",
        "num=4\n",
        "for elem in range (lower_limit,upper_limit+1):\n",
        "    if elem%num==0:\n",
        "      print(elem)\n",
        ""
      ]
    }
  ]
}